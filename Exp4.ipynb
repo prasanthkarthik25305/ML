{
  "nbformat": 4,
  "nbformat_minor": 0,
  "metadata": {
    "colab": {
      "provenance": [],
      "authorship_tag": "ABX9TyOT8OPpIWJY6Kf+PV0GdwQj",
      "include_colab_link": true
    },
    "kernelspec": {
      "name": "python3",
      "display_name": "Python 3"
    },
    "language_info": {
      "name": "python"
    }
  },
  "cells": [
    {
      "cell_type": "markdown",
      "metadata": {
        "id": "view-in-github",
        "colab_type": "text"
      },
      "source": [
        "<a href=\"https://colab.research.google.com/github/prasanthkarthik25305/ML/blob/main/Exp4.ipynb\" target=\"_parent\"><img src=\"https://colab.research.google.com/assets/colab-badge.svg\" alt=\"Open In Colab\"/></a>"
      ]
    },
    {
      "cell_type": "code",
      "execution_count": 6,
      "metadata": {
        "colab": {
          "base_uri": "https://localhost:8080/"
        },
        "id": "ZeuWga1FV2FH",
        "outputId": "27791da8-b3a9-4422-d204-93418fc213f8"
      },
      "outputs": [
        {
          "output_type": "stream",
          "name": "stdout",
          "text": [
            "Mean squared Error:61984427.60889582\n",
            "R-squarred:0.8585727345558596\n",
            "Xoefficents: [-2158.8771222   2968.09098988]\n",
            "Intercept: 89028.16774495158\n"
          ]
        }
      ],
      "source": [
        "import numpy as np\n",
        "import pandas as pd\n",
        "from sklearn.model_selection import train_test_split\n",
        "from sklearn.linear_model import LinearRegression\n",
        "from sklearn.metrics import mean_squared_error,r2_score\n",
        "\n",
        "data=pd.read_csv('Exp4.csv')\n",
        "X=data[['Age','Expereince']]\n",
        "y=data['Salary']\n",
        "X_train,X_test,y_train,y_test= train_test_split(X,y,test_size=0.2,random_state=42)\n",
        "model=LinearRegression()\n",
        "model.fit(X_train,y_train)\n",
        "y_pred=model.predict(X_test)\n",
        "mse=mean_squared_error(y_test,y_pred)\n",
        "r2=r2_score(y_test,y_pred)\n",
        "print(f\"Mean squared Error:{mse}\")\n",
        "print(f\"R-squarred:{r2}\")\n",
        "print(\"Xoefficents:\",model.coef_)\n",
        "print(\"Intercept:\",model.intercept_)\n"
      ]
    }
  ]
}