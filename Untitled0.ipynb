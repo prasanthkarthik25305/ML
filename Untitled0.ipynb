{
  "nbformat": 4,
  "nbformat_minor": 0,
  "metadata": {
    "colab": {
      "provenance": [],
      "authorship_tag": "ABX9TyOqz9E5F1bEL8zN6ciMk3O8",
      "include_colab_link": true
    },
    "kernelspec": {
      "name": "python3",
      "display_name": "Python 3"
    },
    "language_info": {
      "name": "python"
    }
  },
  "cells": [
    {
      "cell_type": "markdown",
      "metadata": {
        "id": "view-in-github",
        "colab_type": "text"
      },
      "source": [
        "<a href=\"https://colab.research.google.com/github/prasanthkarthik25305/ML/blob/main/Untitled0.ipynb\" target=\"_parent\"><img src=\"https://colab.research.google.com/assets/colab-badge.svg\" alt=\"Open In Colab\"/></a>"
      ]
    },
    {
      "cell_type": "code",
      "execution_count": 1,
      "metadata": {
        "colab": {
          "base_uri": "https://localhost:8080/"
        },
        "id": "HGBKhwndmIpN",
        "outputId": "e3ec6cee-5d71-42e3-b91a-817504befa3e"
      },
      "outputs": [
        {
          "output_type": "stream",
          "name": "stdout",
          "text": [
            "Logistic Regression model accuracy: 96.49%\n"
          ]
        }
      ],
      "source": [
        "from sklearn.datasets import load_breast_cancer\n",
        "from sklearn.linear_model import LogisticRegression\n",
        "from sklearn.model_selection import train_test_split\n",
        "from sklearn.metrics import accuracy_score\n",
        "\n",
        "# to load breast cancer dataset\n",
        "X, y = load_breast_cancer(return_X_y=True)\n",
        "X_train, X_test, y_train, y_test = train_test_split(X, y, test_size=0.20, random_state=23)\n",
        "\n",
        "#creating the  logistic regression  function and trianing it\n",
        "clf = LogisticRegression(max_iter=10000, random_state=0)\n",
        "clf.fit(X_train, y_train)\n",
        "# Measuring the accuracy\n",
        "acc = accuracy_score(y_test, clf.predict(X_test)) * 100\n",
        "#printing the accuracy result\n",
        "print(f\"Logistic Regression model accuracy: {acc:.2f}%\")\n",
        "\n",
        "\n",
        "\n"
      ]
    }
  ]
}